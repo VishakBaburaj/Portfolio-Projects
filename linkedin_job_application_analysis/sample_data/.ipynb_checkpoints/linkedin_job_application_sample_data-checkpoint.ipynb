{
 "cells": [
  {
   "attachments": {},
   "cell_type": "markdown",
   "id": "437ef063",
   "metadata": {},
   "source": [
    "### Job Application data from LinkedIn consists of following attributes:\n",
    "\n",
    "Application Date, Contact Email, Contact Phone Number, Company Name, Job Title, Job Url, Resume Name, Question And Answers"
   ]
  },
  {
   "cell_type": "markdown",
   "id": "797e5890",
   "metadata": {},
   "source": [
    "### The Application Date format is DateTime: \n",
    "\n",
    "8/9/22, 11:37 PM"
   ]
  },
  {
   "cell_type": "markdown",
   "id": "d744f638",
   "metadata": {},
   "source": [
    "### The following are the attributes needed for the analysis:\n",
    "\n",
    "1. Application Date\n",
    "2. Company Name\n",
    "3. Job Title\n",
    "\n",
    "Rest of the attributes data can be empty for sample data."
   ]
  },
  {
   "cell_type": "code",
   "execution_count": 1,
   "id": "22a37977",
   "metadata": {},
   "outputs": [],
   "source": [
    "# Importing libraries\n",
    "import pandas as pd\n",
    "import random\n",
    "from datetime import datetime, timedelta"
   ]
  },
  {
   "cell_type": "code",
   "execution_count": 2,
   "id": "11be5619",
   "metadata": {},
   "outputs": [],
   "source": [
    "# Define the range of dates\n",
    "start_date = datetime(2020, 1, 1)\n",
    "end_date = datetime.now()"
   ]
  },
  {
   "cell_type": "code",
   "execution_count": 3,
   "id": "790521cb",
   "metadata": {},
   "outputs": [],
   "source": [
    "# Generating a list of unique dates with desired frequency\n",
    "date_range = pd.date_range(start=start_date, end=end_date, freq='D')\n",
    "dates = sorted(random.sample(list(date_range), k=1000))"
   ]
  },
  {
   "cell_type": "code",
   "execution_count": 4,
   "id": "bd328908",
   "metadata": {},
   "outputs": [],
   "source": [
    "# Generating a list of recurring company names\n",
    "company_names = ['Company A', 'Company B', 'Company C', 'Company D', 'Company E',\n",
    "                 'Company F', 'Company G', 'Company H', 'Company I', 'Company J',\n",
    "                 'Company K', 'Company L', 'Company M', 'Company N', 'Company O',\n",
    "                 'Company P', 'Company Q', 'Company R', 'Company S', 'Company T']\n",
    "\n",
    "# Generating a list of recurring job titles\n",
    "job_titles = ['Job Title 1', 'Job Title 2', 'Job Title 3', 'Job Title 4', 'Job Title 5',\n",
    "              'Job Title 6', 'Job Title 7', 'Job Title 8', 'Job Title 9', 'Job Title 10',\n",
    "              'Job Title 11', 'Job Title 12', 'Job Title 13', 'Job Title 14', 'Job Title 15',\n",
    "              'Job Title 16', 'Job Title 17', 'Job Title 18', 'Job Title 19', 'Job Title 20']"
   ]
  },
  {
   "cell_type": "code",
   "execution_count": 5,
   "id": "fa8b716d",
   "metadata": {},
   "outputs": [
    {
     "data": {
      "text/html": [
       "<div>\n",
       "<style scoped>\n",
       "    .dataframe tbody tr th:only-of-type {\n",
       "        vertical-align: middle;\n",
       "    }\n",
       "\n",
       "    .dataframe tbody tr th {\n",
       "        vertical-align: top;\n",
       "    }\n",
       "\n",
       "    .dataframe thead th {\n",
       "        text-align: right;\n",
       "    }\n",
       "</style>\n",
       "<table border=\"1\" class=\"dataframe\">\n",
       "  <thead>\n",
       "    <tr style=\"text-align: right;\">\n",
       "      <th></th>\n",
       "      <th>Application Date</th>\n",
       "      <th>Contact Email</th>\n",
       "      <th>Contact Phone Number</th>\n",
       "      <th>Company Name</th>\n",
       "      <th>Job Title</th>\n",
       "      <th>Job Url</th>\n",
       "      <th>Resume Name</th>\n",
       "      <th>Question And Answers</th>\n",
       "    </tr>\n",
       "  </thead>\n",
       "  <tbody>\n",
       "    <tr>\n",
       "      <th>175</th>\n",
       "      <td>01/01/20, 12:00 AM</td>\n",
       "      <td></td>\n",
       "      <td></td>\n",
       "      <td>Company P</td>\n",
       "      <td>Job Title 7</td>\n",
       "      <td></td>\n",
       "      <td></td>\n",
       "      <td></td>\n",
       "    </tr>\n",
       "    <tr>\n",
       "      <th>28</th>\n",
       "      <td>01/01/22, 12:00 AM</td>\n",
       "      <td></td>\n",
       "      <td></td>\n",
       "      <td>Company D</td>\n",
       "      <td>Job Title 7</td>\n",
       "      <td></td>\n",
       "      <td></td>\n",
       "      <td></td>\n",
       "    </tr>\n",
       "    <tr>\n",
       "      <th>209</th>\n",
       "      <td>01/01/22, 12:00 AM</td>\n",
       "      <td></td>\n",
       "      <td></td>\n",
       "      <td>Company P</td>\n",
       "      <td>Job Title 18</td>\n",
       "      <td></td>\n",
       "      <td></td>\n",
       "      <td></td>\n",
       "    </tr>\n",
       "    <tr>\n",
       "      <th>162</th>\n",
       "      <td>01/02/21, 12:00 AM</td>\n",
       "      <td></td>\n",
       "      <td></td>\n",
       "      <td>Company N</td>\n",
       "      <td>Job Title 15</td>\n",
       "      <td></td>\n",
       "      <td></td>\n",
       "      <td></td>\n",
       "    </tr>\n",
       "    <tr>\n",
       "      <th>182</th>\n",
       "      <td>01/02/21, 12:00 AM</td>\n",
       "      <td></td>\n",
       "      <td></td>\n",
       "      <td>Company D</td>\n",
       "      <td>Job Title 16</td>\n",
       "      <td></td>\n",
       "      <td></td>\n",
       "      <td></td>\n",
       "    </tr>\n",
       "  </tbody>\n",
       "</table>\n",
       "</div>"
      ],
      "text/plain": [
       "       Application Date Contact Email Contact Phone Number Company Name  \\\n",
       "175  01/01/20, 12:00 AM                                       Company P   \n",
       "28   01/01/22, 12:00 AM                                       Company D   \n",
       "209  01/01/22, 12:00 AM                                       Company P   \n",
       "162  01/02/21, 12:00 AM                                       Company N   \n",
       "182  01/02/21, 12:00 AM                                       Company D   \n",
       "\n",
       "        Job Title Job Url Resume Name Question And Answers  \n",
       "175   Job Title 7                                           \n",
       "28    Job Title 7                                           \n",
       "209  Job Title 18                                           \n",
       "162  Job Title 15                                           \n",
       "182  Job Title 16                                           "
      ]
     },
     "execution_count": 5,
     "metadata": {},
     "output_type": "execute_result"
    }
   ],
   "source": [
    "# Generating the sample data\n",
    "data = {\n",
    "    'Application Date': [random.choice(dates).strftime('%m/%d/%y, %I:%M %p') for _ in range(1000)],\n",
    "    'Contact Email': [''] * 1000,\n",
    "    'Contact Phone Number': [''] * 1000,\n",
    "    'Company Name': [random.choice(company_names) for _ in range(1000)],\n",
    "    'Job Title': [random.choice(job_titles) for _ in range(1000)],\n",
    "    'Job Url': [''] * 1000,\n",
    "    'Resume Name': [''] * 1000,\n",
    "    'Question And Answers': [''] * 1000\n",
    "}\n",
    "\n",
    "# Creating the pandas dataframe\n",
    "df = pd.DataFrame(data)\n",
    "\n",
    "# Sorting the dataframe by \"Application Date\"\n",
    "df.sort_values('Application Date', inplace=True)\n",
    "\n",
    "df.head()"
   ]
  },
  {
   "cell_type": "code",
   "execution_count": 6,
   "id": "2ea49aeb",
   "metadata": {},
   "outputs": [],
   "source": [
    "# Defining the output file path\n",
    "output_path = \"C:/Users/visha/Documents/Projects/Portfolio Projects/linkedin_job_application_analysis/sample_data/sample_data.csv\"\n",
    "\n",
    "# Export the dataframe to CSV\n",
    "df.to_csv(output_path, index=False)"
   ]
  }
 ],
 "metadata": {
  "kernelspec": {
   "display_name": "Python 3 (ipykernel)",
   "language": "python",
   "name": "python3"
  },
  "language_info": {
   "codemirror_mode": {
    "name": "ipython",
    "version": 3
   },
   "file_extension": ".py",
   "mimetype": "text/x-python",
   "name": "python",
   "nbconvert_exporter": "python",
   "pygments_lexer": "ipython3",
   "version": "3.9.13"
  }
 },
 "nbformat": 4,
 "nbformat_minor": 5
}
